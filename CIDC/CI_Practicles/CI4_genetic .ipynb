{
 "cells": [
  {
   "cell_type": "code",
   "execution_count": 1,
   "id": "1a53ecd2",
   "metadata": {},
   "outputs": [
    {
     "name": "stdout",
     "output_type": "stream",
     "text": [
      "Best Parameters: [81, 54]\n"
     ]
    }
   ],
   "source": [
    "import random\n",
    "from deap import base, creator, tools, algorithms\n",
    "\n",
    "# Define evaluation function (this is a mock function, replace with your actual evaluation)\n",
    "def evaluate(individual):\n",
    "    \"\"\"Mock evaluation function - replace with your actual neural network evaluation\"\"\"\n",
    "    # Here 'individual' represents parameters for the neural network\n",
    "    # Return a fitness value (random number used as example)\n",
    "    return random.random(),\n",
    "\n",
    "# Define genetic algorithm parameters\n",
    "POPULATION_SIZE = 10\n",
    "GENERATIONS = 5\n",
    "\n",
    "# Create types for fitness and individuals\n",
    "creator.create(\"FitnessMin\", base.Fitness, weights=(-1.0,))\n",
    "creator.create(\"Individual\", list, fitness=creator.FitnessMin)\n",
    "\n",
    "# Initialize toolbox\n",
    "toolbox = base.Toolbox()\n",
    "\n",
    "# Define attributes and individuals\n",
    "toolbox.register(\"attr_neuron\", random.randint, 1, 100)  # Number of neurons\n",
    "toolbox.register(\"attr_layer\", random.randint, 1, 5)     # Number of layers\n",
    "toolbox.register(\"individual\", tools.initCycle, creator.Individual, \n",
    "                (toolbox.attr_neuron, toolbox.attr_layer), n=1)\n",
    "toolbox.register(\"population\", tools.initRepeat, list, toolbox.individual)\n",
    "\n",
    "# Genetic operators\n",
    "toolbox.register(\"evaluate\", evaluate)\n",
    "toolbox.register(\"mate\", tools.cxTwoPoint)\n",
    "toolbox.register(\"mutate\", tools.mutUniformInt, low=1, up=100, indpb=0.2)\n",
    "toolbox.register(\"select\", tools.selTournament, tournsize=3)\n",
    "\n",
    "# Create initial population\n",
    "population = toolbox.population(n=POPULATION_SIZE)\n",
    "\n",
    "# Run the genetic algorithm\n",
    "for gen in range(GENERATIONS):\n",
    "    offspring = algorithms.varAnd(population, toolbox, cxpb=0.5, mutpb=0.1)\n",
    "    \n",
    "    fitnesses = toolbox.map(toolbox.evaluate, offspring)\n",
    "    for ind, fit in zip(offspring, fitnesses):\n",
    "        ind.fitness.values = fit\n",
    "    \n",
    "    population = toolbox.select(offspring, k=len(population))\n",
    "\n",
    "# Get the best individual from final population\n",
    "best_individual = tools.selBest(population, k=1)[0]\n",
    "best_params = best_individual\n",
    "\n",
    "# Print the best parameters found\n",
    "print(\"Best Parameters:\", best_params)"
   ]
  }
 ],
 "metadata": {
  "kernelspec": {
   "display_name": "Python 3 (ipykernel)",
   "language": "python",
   "name": "python3"
  },
  "language_info": {
   "codemirror_mode": {
    "name": "ipython",
    "version": 3
   },
   "file_extension": ".py",
   "mimetype": "text/x-python",
   "name": "python",
   "nbconvert_exporter": "python",
   "pygments_lexer": "ipython3",
   "version": "3.11.5"
  }
 },
 "nbformat": 4,
 "nbformat_minor": 5
}
