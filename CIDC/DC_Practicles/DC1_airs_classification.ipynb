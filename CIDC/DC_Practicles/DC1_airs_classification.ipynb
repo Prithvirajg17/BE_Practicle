{
 "cells": [
  {
   "cell_type": "code",
   "execution_count": 1,
   "id": "e0162fba",
   "metadata": {},
   "outputs": [
    {
     "name": "stdout",
     "output_type": "stream",
     "text": [
      "Accuracy: 0.55\n"
     ]
    }
   ],
   "source": [
    "import numpy as np\n",
    "\n",
    "# Generate dummy data for demonstration purposes\n",
    "def generate_dummy_data(samples=100, features=10):\n",
    "    data = np.random.rand(samples, features)\n",
    "    labels = np.random.randint(0, 2, size=samples)  # Binary classification\n",
    "    return data, labels\n",
    "\n",
    "# Define the AIRS algorithm\n",
    "class AIRS:\n",
    "    def __init__(self, num_detectors=10, hypermutation_rate=0.1):\n",
    "        self.num_detectors = num_detectors\n",
    "        self.hypermutation_rate = hypermutation_rate\n",
    "    \n",
    "    def train(self, X, y):\n",
    "        # Select random detectors from training data\n",
    "        indices = np.random.choice(len(X), self.num_detectors, replace=False)\n",
    "        self.detectors = X[indices]\n",
    "        self.detector_labels = y[indices]\n",
    "    \n",
    "    def predict(self, X):\n",
    "        predictions = []\n",
    "        for sample in X:\n",
    "            # Calculate Euclidean distances to all detectors\n",
    "            distances = np.linalg.norm(self.detectors - sample, axis=1)\n",
    "            # Get the label of the closest detector\n",
    "            prediction = self.detector_labels[np.argmin(distances)]\n",
    "            predictions.append(prediction)\n",
    "        return np.array(predictions)\n",
    "\n",
    "# Generate dummy data\n",
    "data, labels = generate_dummy_data()\n",
    "\n",
    "# Split data into training and testing sets\n",
    "split_ratio = 0.8\n",
    "split_index = int(len(data) * split_ratio)\n",
    "train_data, test_data = data[:split_index], data[split_index:]\n",
    "train_labels, test_labels = labels[:split_index], labels[split_index:]\n",
    "\n",
    "# Initialize and train AIRS\n",
    "airs = AIRS(num_detectors=10, hypermutation_rate=0.1)\n",
    "airs.train(train_data, train_labels)\n",
    "\n",
    "# Test AIRS on the test set\n",
    "predictions = airs.predict(test_data)\n",
    "\n",
    "# Evaluate accuracy\n",
    "accuracy = np.mean(predictions == test_labels)\n",
    "print(f\"Accuracy: {accuracy:.2f}\")"
   ]
  }
 ],
 "metadata": {
  "kernelspec": {
   "display_name": "Python 3 (ipykernel)",
   "language": "python",
   "name": "python3"
  },
  "language_info": {
   "codemirror_mode": {
    "name": "ipython",
    "version": 3
   },
   "file_extension": ".py",
   "mimetype": "text/x-python",
   "name": "python",
   "nbconvert_exporter": "python",
   "pygments_lexer": "ipython3",
   "version": "3.11.5"
  }
 },
 "nbformat": 4,
 "nbformat_minor": 5
}
